{
 "cells": [
  {
   "cell_type": "code",
   "execution_count": 4,
   "metadata": {
    "collapsed": false
   },
   "outputs": [],
   "source": [
    "import numpy as np"
   ]
  },
  {
   "cell_type": "code",
   "execution_count": 5,
   "metadata": {
    "collapsed": false
   },
   "outputs": [
    {
     "name": "stdout",
     "output_type": "stream",
     "text": [
      "32\n"
     ]
    }
   ],
   "source": [
    "a = np.array([1,2,3])\n",
    "b = np.array([4,5,6])\n",
    "print(np.dot(a, b))"
   ]
  },
  {
   "cell_type": "code",
   "execution_count": 10,
   "metadata": {
    "collapsed": false
   },
   "outputs": [],
   "source": [
    "#パーセプトロン定義\n",
    "def perceptron(x, W, h):\n",
    "    y = np.dot(x, W)\n",
    "    if y > h:\n",
    "        y = 1\n",
    "    else:\n",
    "        y = 0\n",
    "    return y"
   ]
  },
  {
   "cell_type": "code",
   "execution_count": 11,
   "metadata": {
    "collapsed": false
   },
   "outputs": [
    {
     "data": {
      "text/plain": [
       "0"
      ]
     },
     "execution_count": 11,
     "metadata": {},
     "output_type": "execute_result"
    }
   ],
   "source": [
    "#自分で重みとしきい値を設定してみよう\n",
    "x = [0, 0]\n",
    "W = [1, 1]\n",
    "h = 0.5\n",
    "perceptron(x, W, h)"
   ]
  },
  {
   "cell_type": "code",
   "execution_count": 14,
   "metadata": {
    "collapsed": false
   },
   "outputs": [
    {
     "name": "stdout",
     "output_type": "stream",
     "text": [
      "t:188\n",
      "f:62\n",
      "[ 0.32156836  0.33156623]\n",
      "0.340113378957\n"
     ]
    },
    {
     "data": {
      "text/plain": [
       "<matplotlib.axes._subplots.AxesSubplot at 0x11dcdeb00>"
      ]
     },
     "execution_count": 14,
     "metadata": {},
     "output_type": "execute_result"
    },
    {
     "data": {
      "image/png": "[encoded data removed]",
      "text/plain": [
       "<matplotlib.figure.Figure at 0x1134cd780>"
      ]
     },
     "metadata": {},
     "output_type": "display_data"
    }
   ],
   "source": [
    "#パーセプトロンデモ\n",
    "import random\n",
    "import matplotlib\n",
    "import matplotlib.pyplot as plt\n",
    "import pandas as pd\n",
    "%matplotlib inline\n",
    "plt.style.use('ggplot') \n",
    "\n",
    "#初期化\n",
    "#入力\n",
    "X = []\n",
    "#教師信号\n",
    "R = []\n",
    "#データセット作成\n",
    "for i in range(0, 500):\n",
    "    x = [random.randint(0, 1), random.randint(0, 1)]\n",
    "    X.append(x)\n",
    "    if x[0] == 1 & x[1] ==1:\n",
    "        R.append(1)\n",
    "    else:\n",
    "        R.append(0)\n",
    "#    if x[0] == x[1] :\n",
    "#        R.append(1)\n",
    "#    else:\n",
    "#        R.append(0)\n",
    "        \n",
    "#テスト用と評価用に分ける\n",
    "X_train = np.array(X[:250])\n",
    "R_train = np.array(R[:250])\n",
    "\n",
    "X_eval = np.array(X[250:])\n",
    "R_eval = np.array(R[250:])\n",
    "\n",
    "#結合重み\n",
    "W = np.random.rand(2)\n",
    "#しきい値\n",
    "h = np.random.rand()\n",
    "#学習率\n",
    "a = 0.01\n",
    "\n",
    "\n",
    "results = []\n",
    "for x, r in zip(X_train, R_train):\n",
    "    result = []\n",
    "    y =perceptron(x, W, h)\n",
    "    for  (i,  x_in) in enumerate(x):\n",
    "        W[i] = W[i] + a*(r - y)* x_in\n",
    "        result.append(W[i])\n",
    "    h = h - a*(r - y)\n",
    "    result.append(h)\n",
    "    results.append(result)\n",
    "    \n",
    "\n",
    "t = 0\n",
    "f = 0\n",
    "for x, r in zip(X_eval, R_eval):\n",
    "    y =perceptron(x, W, h)\n",
    "    if y == r:\n",
    "        t += 1\n",
    "    else:\n",
    "        f += 1\n",
    "\n",
    "print('t:' + str(t))\n",
    "print('f:' + str(f))\n",
    "print(W)\n",
    "print(h)\n",
    "\n",
    "#表示\n",
    "df = pd.DataFrame(results, columns=['w1', 'w2', 'h'])\n",
    "df.plot( y=['w1', 'w2', 'h'], figsize=(12,3), alpha=0.5)"
   ]
  },
  {
   "cell_type": "code",
   "execution_count": 4,
   "metadata": {
    "collapsed": false
   },
   "outputs": [],
   "source": [
    "from keras.models import Sequential\n",
    "from keras.layers import Dense, Activation\n",
    "from keras.applications.vgg16 import VGG16\n",
    "from keras.preprocessing import image\n",
    "from keras.applications.vgg16 import preprocess_input\n",
    "import numpy as np"
   ]
  },
  {
   "cell_type": "code",
   "execution_count": 5,
   "metadata": {
    "collapsed": false
   },
   "outputs": [
    {
     "data": {
      "text/plain": [
       "(1, 7, 7, 512)"
      ]
     },
     "execution_count": 5,
     "metadata": {},
     "output_type": "execute_result"
    }
   ],
   "source": [
    "model = VGG16(weights='imagenet', include_top=False)\n",
    "\n",
    "img_path = './images/elephant.jpg'\n",
    "img = image.load_img(img_path, target_size=(224, 224))\n",
    "x = image.img_to_array(img)\n",
    "x = np.expand_dims(x, axis=0)\n",
    "x = preprocess_input(x)\n",
    "\n",
    "features = model.predict(x)\n",
    "features.shape"
   ]
  },
  {
   "cell_type": "code",
   "execution_count": 6,
   "metadata": {
    "collapsed": true
   },
   "outputs": [],
   "source": [
    "from keras.applications.resnet50 import ResNet50\n",
    "from keras.applications.resnet50 import preprocess_input, decode_predictions"
   ]
  },
  {
   "cell_type": "code",
   "execution_count": 7,
   "metadata": {
    "collapsed": false
   },
   "outputs": [
    {
     "name": "stdout",
     "output_type": "stream",
     "text": [
      "Predicted: [[('n02504458', 'African_elephant', 0.90305239), ('n01871265', 'tusker', 0.083503358), ('n02504013', 'Indian_elephant', 0.013397283), ('n02437312', 'Arabian_camel', 5.5643477e-06), ('n02391049', 'zebra', 4.3384721e-06)]]\n"
     ]
    }
   ],
   "source": [
    "model = ResNet50(weights='imagenet')\n",
    "\n",
    "img_path = './images/elephant.jpg'\n",
    "img = image.load_img(img_path, target_size=(224, 224))\n",
    "x = image.img_to_array(img)\n",
    "x = np.expand_dims(x, axis=0)\n",
    "x = preprocess_input(x)\n",
    "\n",
    "preds = model.predict(x)\n",
    "print('Predicted:', decode_predictions(preds))"
   ]
  },
  {
   "cell_type": "code",
   "execution_count": null,
   "metadata": {
    "collapsed": true
   },
   "outputs": [],
   "source": []
  }
 ],
 "metadata": {
  "anaconda-cloud": {},
  "kernelspec": {
   "display_name": "Python [Root]",
   "language": "python",
   "name": "Python [Root]"
  },
  "language_info": {
   "codemirror_mode": {
    "name": "ipython",
    "version": 3
   },
   "file_extension": ".py",
   "mimetype": "text/x-python",
   "name": "python",
   "nbconvert_exporter": "python",
   "pygments_lexer": "ipython3",
   "version": "3.5.2"
  }
 },
 "nbformat": 4,
 "nbformat_minor": 0
}
